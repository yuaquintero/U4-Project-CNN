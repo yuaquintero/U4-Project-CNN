{
  "nbformat": 4,
  "nbformat_minor": 0,
  "metadata": {
    "colab": {
      "name": "U4. PROJECT CNN.ipynb",
      "provenance": [],
      "authorship_tag": "ABX9TyN+OQH+Z4cOriIN3PVcB/Pq",
      "include_colab_link": true
    },
    "kernelspec": {
      "name": "python3",
      "display_name": "Python 3"
    }
  },
  "cells": [
    {
      "cell_type": "markdown",
      "metadata": {
        "id": "view-in-github",
        "colab_type": "text"
      },
      "source": [
        "<a href=\"https://colab.research.google.com/github/yuaquintero/U4-Project-CNN/blob/master/U4_PROJECT_CNN.ipynb\" target=\"_parent\"><img src=\"https://colab.research.google.com/assets/colab-badge.svg\" alt=\"Open In Colab\"/></a>"
      ]
    },
    {
      "cell_type": "code",
      "metadata": {
        "id": "MJDV3sIos2CR",
        "colab_type": "code",
        "colab": {}
      },
      "source": [
        "from google.colab import files\n",
        "from IPython.display import Image"
      ],
      "execution_count": 0,
      "outputs": []
    }
  ]
}