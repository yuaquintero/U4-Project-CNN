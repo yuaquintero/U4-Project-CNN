{
  "nbformat": 4,
  "nbformat_minor": 0,
  "metadata": {
    "colab": {
      "name": "U4. PROJECT CNN.ipynb",
      "provenance": [],
      "authorship_tag": "ABX9TyMt9XPaH4mlY6atTiDAPD2P",
      "include_colab_link": true
    },
    "kernelspec": {
      "name": "python3",
      "display_name": "Python 3"
    }
  },
  "cells": [
    {
      "cell_type": "markdown",
      "metadata": {
        "id": "view-in-github",
        "colab_type": "text"
      },
      "source": [
        "<a href=\"https://colab.research.google.com/github/yuaquintero/U4-Project-CNN/blob/master/U4_PROJECT_CNN.ipynb\" target=\"_parent\"><img src=\"https://colab.research.google.com/assets/colab-badge.svg\" alt=\"Open In Colab\"/></a>"
      ]
    },
    {
      "cell_type": "code",
      "metadata": {
        "id": "MJDV3sIos2CR",
        "colab_type": "code",
        "colab": {}
      },
      "source": [
        "from google.colab import files\n",
        "from IPython.display import Image"
      ],
      "execution_count": 0,
      "outputs": []
    },
    {
      "cell_type": "code",
      "metadata": {
        "id": "_Lga6geG9fYz",
        "colab_type": "code",
        "colab": {}
      },
      "source": [
        "https://drive.google.com/file/d/1JNHwrKw-ib9zHIQaczfWMrmkfu3fGNDs/view?usp=sharing"
      ],
      "execution_count": 0,
      "outputs": []
    },
    {
      "cell_type": "code",
      "metadata": {
        "id": "IOePL60t9fdd",
        "colab_type": "code",
        "colab": {}
      },
      "source": [
        "data_dir = ..."
      ],
      "execution_count": 0,
      "outputs": []
    },
    {
      "cell_type": "code",
      "metadata": {
        "id": "yJMITms29fkd",
        "colab_type": "code",
        "colab": {}
      },
      "source": [
        "import sys\n",
        "import os\n",
        "from tensorflow.python.keras.preprocessing.image import ImageDataGenerator\n",
        "from tensorflow.python.keras import optimizers\n",
        "from tensorflow.python.keras.models import Sequential\n",
        "from tensorflow.python.keras.layers import Dropout, Flatten, Dense, Activation\n",
        "from tensorflow.python.keras.layers import  Convolution2D, MaxPooling2D\n",
        "from tensorflow.python.keras import backend as K"
      ],
      "execution_count": 0,
      "outputs": []
    },
    {
      "cell_type": "markdown",
      "metadata": {
        "id": "lQeZ9rgv_v8f",
        "colab_type": "text"
      },
      "source": [
        "Load Data\n"
      ]
    },
    {
      "cell_type": "code",
      "metadata": {
        "id": "6aUESdqA9fPw",
        "colab_type": "code",
        "colab": {
          "base_uri": "https://localhost:8080/",
          "height": 434
        },
        "outputId": "49b8d311-eb09-4467-e73f-73430763b1c0"
      },
      "source": [
        "!wget --load-cookies /tmp/cookies.txt \"https://docs.google.com/uc?export=download&confirm=$(wget --quiet --save-cookies /tmp/cookies.txt --keep-session-cookies --no-check-certificate 'https://docs.google.com/uc?export=download&id=1JNHwrKw-ib9zHIQaczfWMrmkfu3fGNDs' -O- | sed -rn 's/.*confirm=([0-9A-Za-z_]+).*/\\1\\n/p')&id=1JNHwrKw-ib9zHIQaczfWMrmkfu3fGNDs\" -O intel-image-classification.zip && rm -rf /tmp/cookies.txt"
      ],
      "execution_count": 20,
      "outputs": [
        {
          "output_type": "stream",
          "text": [
            "--2020-04-28 04:09:23--  https://docs.google.com/uc?export=download&confirm=wfXz&id=1JNHwrKw-ib9zHIQaczfWMrmkfu3fGNDs\n",
            "Resolving docs.google.com (docs.google.com)... 74.125.20.100, 74.125.20.113, 74.125.20.139, ...\n",
            "Connecting to docs.google.com (docs.google.com)|74.125.20.100|:443... connected.\n",
            "HTTP request sent, awaiting response... 302 Moved Temporarily\n",
            "Location: https://doc-04-74-docs.googleusercontent.com/docs/securesc/d9jp61mkmrejin5utaq7v9gcf01nhsng/8kstca0vrn3l68tdo1l287ml3teidf29/1588046925000/12257531938772176428/01735161246115450435Z/1JNHwrKw-ib9zHIQaczfWMrmkfu3fGNDs?e=download [following]\n",
            "--2020-04-28 04:09:23--  https://doc-04-74-docs.googleusercontent.com/docs/securesc/d9jp61mkmrejin5utaq7v9gcf01nhsng/8kstca0vrn3l68tdo1l287ml3teidf29/1588046925000/12257531938772176428/01735161246115450435Z/1JNHwrKw-ib9zHIQaczfWMrmkfu3fGNDs?e=download\n",
            "Resolving doc-04-74-docs.googleusercontent.com (doc-04-74-docs.googleusercontent.com)... 74.125.135.132, 2607:f8b0:400e:c01::84\n",
            "Connecting to doc-04-74-docs.googleusercontent.com (doc-04-74-docs.googleusercontent.com)|74.125.135.132|:443... connected.\n",
            "HTTP request sent, awaiting response... 302 Found\n",
            "Location: https://docs.google.com/nonceSigner?nonce=iru7jr21mr2ei&continue=https://doc-04-74-docs.googleusercontent.com/docs/securesc/d9jp61mkmrejin5utaq7v9gcf01nhsng/8kstca0vrn3l68tdo1l287ml3teidf29/1588046925000/12257531938772176428/01735161246115450435Z/1JNHwrKw-ib9zHIQaczfWMrmkfu3fGNDs?e%3Ddownload&hash=0jpjdd50ib5fvamhtgdiu7djbid2idjm [following]\n",
            "--2020-04-28 04:09:23--  https://docs.google.com/nonceSigner?nonce=iru7jr21mr2ei&continue=https://doc-04-74-docs.googleusercontent.com/docs/securesc/d9jp61mkmrejin5utaq7v9gcf01nhsng/8kstca0vrn3l68tdo1l287ml3teidf29/1588046925000/12257531938772176428/01735161246115450435Z/1JNHwrKw-ib9zHIQaczfWMrmkfu3fGNDs?e%3Ddownload&hash=0jpjdd50ib5fvamhtgdiu7djbid2idjm\n",
            "Connecting to docs.google.com (docs.google.com)|74.125.20.100|:443... connected.\n",
            "HTTP request sent, awaiting response... 302 Found\n",
            "Location: https://doc-04-74-docs.googleusercontent.com/docs/securesc/d9jp61mkmrejin5utaq7v9gcf01nhsng/8kstca0vrn3l68tdo1l287ml3teidf29/1588046925000/12257531938772176428/01735161246115450435Z/1JNHwrKw-ib9zHIQaczfWMrmkfu3fGNDs?e=download&nonce=iru7jr21mr2ei&user=01735161246115450435Z&hash=qd6lfmbfr1em4ltebgm1id3pk310qrrc [following]\n",
            "--2020-04-28 04:09:23--  https://doc-04-74-docs.googleusercontent.com/docs/securesc/d9jp61mkmrejin5utaq7v9gcf01nhsng/8kstca0vrn3l68tdo1l287ml3teidf29/1588046925000/12257531938772176428/01735161246115450435Z/1JNHwrKw-ib9zHIQaczfWMrmkfu3fGNDs?e=download&nonce=iru7jr21mr2ei&user=01735161246115450435Z&hash=qd6lfmbfr1em4ltebgm1id3pk310qrrc\n",
            "Connecting to doc-04-74-docs.googleusercontent.com (doc-04-74-docs.googleusercontent.com)|74.125.135.132|:443... connected.\n",
            "HTTP request sent, awaiting response... 200 OK\n",
            "Length: unspecified [application/zip]\n",
            "Saving to: ‘intel-image-classification.zip’\n",
            "\n",
            "intel-image-classif     [         <=>        ] 358.57M   205MB/s    in 1.8s    \n",
            "\n",
            "2020-04-28 04:09:25 (205 MB/s) - ‘intel-image-classification.zip’ saved [375985240]\n",
            "\n"
          ],
          "name": "stdout"
        }
      ]
    },
    {
      "cell_type": "code",
      "metadata": {
        "id": "zL3OdU8S_vAI",
        "colab_type": "code",
        "colab": {}
      },
      "source": [
        ""
      ],
      "execution_count": 0,
      "outputs": []
    },
    {
      "cell_type": "code",
      "metadata": {
        "id": "MY6zEX6B9fpW",
        "colab_type": "code",
        "colab": {}
      },
      "source": [
        "data_entrenamiento = './data/entrenamiento'\n",
        "data_validacion = './data/validacion'"
      ],
      "execution_count": 0,
      "outputs": []
    },
    {
      "cell_type": "markdown",
      "metadata": {
        "id": "gpOV4cNGAExI",
        "colab_type": "text"
      },
      "source": [
        "Prepare data"
      ]
    },
    {
      "cell_type": "code",
      "metadata": {
        "id": "uOsIkG88_s9N",
        "colab_type": "code",
        "colab": {}
      },
      "source": [
        "entrenamiento_datagen = ImageDataGenerator(\n",
        "    rescale=1. / 255,\n",
        "    shear_range=0.2,\n",
        "    zoom_range=0.2,\n",
        "    horizontal_flip=True)"
      ],
      "execution_count": 0,
      "outputs": []
    },
    {
      "cell_type": "code",
      "metadata": {
        "id": "ONhV7iW-AScF",
        "colab_type": "code",
        "colab": {}
      },
      "source": [
        "test_datagen = ImageDataGenerator(rescale=1. / 255)\n",
        "\n",
        "entrenamiento_generador = entrenamiento_datagen.flow_from_directory(\n",
        "    data_entrenamiento,\n",
        "    target_size=(altura, longitud),\n",
        "    batch_size=batch_size,\n",
        "    class_mode='categorical')"
      ],
      "execution_count": 0,
      "outputs": []
    }
  ]
}